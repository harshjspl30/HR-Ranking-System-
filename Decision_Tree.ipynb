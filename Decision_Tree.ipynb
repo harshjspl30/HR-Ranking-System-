{
 "cells": [
  {
   "cell_type": "markdown",
   "metadata": {
    "colab_type": "text",
    "id": "ySYPWqFdQuuJ"
   },
   "source": []
  },
  {
   "cell_type": "markdown",
   "metadata": {
    "colab_type": "text",
    "id": "2ZZjR0KxNug1"
   },
   "source": []
  },
  {
   "cell_type": "code",
   "execution_count": 1,
   "metadata": {
    "colab": {},
    "colab_type": "code",
    "id": "xmUtcf-uNeb1"
   },
   "outputs": [],
   "source": [
    "#Import the required libaries.\n",
    "import numpy as np\n",
    "import pandas as pd\n",
    "import seaborn as sns\n",
    "sns.set_style(\"whitegrid\")\n",
    "import itertools\n",
    "import matplotlib.pyplot as plt\n",
    "%matplotlib inline\n",
    "\n",
    "#Misc to ignore warnings\n",
    "import warnings\n",
    "warnings.filterwarnings(\"ignore\")"
   ]
  },
  {
   "cell_type": "code",
   "execution_count": 2,
   "metadata": {
    "colab": {},
    "colab_type": "code",
    "id": "39RTCb-wNvfw"
   },
   "outputs": [
    {
     "ename": "ModuleNotFoundError",
     "evalue": "No module named 'google'",
     "output_type": "error",
     "traceback": [
      "\u001b[1;31m---------------------------------------------------------------------------\u001b[0m",
      "\u001b[1;31mModuleNotFoundError\u001b[0m                       Traceback (most recent call last)",
      "\u001b[1;32m~\\AppData\\Local\\Temp/ipykernel_12304/1723196705.py\u001b[0m in \u001b[0;36m<module>\u001b[1;34m\u001b[0m\n\u001b[0;32m      1\u001b[0m \u001b[1;31m#Mount Drive\u001b[0m\u001b[1;33m\u001b[0m\u001b[1;33m\u001b[0m\u001b[0m\n\u001b[1;32m----> 2\u001b[1;33m \u001b[1;32mfrom\u001b[0m \u001b[0mgoogle\u001b[0m\u001b[1;33m.\u001b[0m\u001b[0mcolab\u001b[0m \u001b[1;32mimport\u001b[0m \u001b[0mdrive\u001b[0m\u001b[1;33m\u001b[0m\u001b[1;33m\u001b[0m\u001b[0m\n\u001b[0m\u001b[0;32m      3\u001b[0m \u001b[0mdrive\u001b[0m\u001b[1;33m.\u001b[0m\u001b[0mmount\u001b[0m\u001b[1;33m(\u001b[0m\u001b[1;34m'/drive/'\u001b[0m\u001b[1;33m)\u001b[0m\u001b[1;33m\u001b[0m\u001b[1;33m\u001b[0m\u001b[0m\n",
      "\u001b[1;31mModuleNotFoundError\u001b[0m: No module named 'google'"
     ]
    }
   ],
   "source": [
    "#Mount Drive\n",
    "from google.colab import drive\n",
    "drive.mount('/drive/')"
   ]
  },
  {
   "cell_type": "code",
   "execution_count": null,
   "metadata": {
    "colab": {},
    "colab_type": "code",
    "id": "c5pfRUpSODsp"
   },
   "outputs": [],
   "source": [
    "#Change directory \n",
    "import os \n",
    "os.chdir('/drive/My Drive/data/HR')"
   ]
  },
  {
   "cell_type": "code",
   "execution_count": null,
   "metadata": {
    "colab": {},
    "colab_type": "code",
    "id": "F0mG-XhGOlFw"
   },
   "outputs": [],
   "source": [
    "#Read the csv using the pandas to df\n",
    "df = pd.read_csv('HR_data.csv')"
   ]
  },
  {
   "cell_type": "code",
   "execution_count": null,
   "metadata": {
    "colab": {
     "base_uri": "https://localhost:8080/",
     "height": 217
    },
    "colab_type": "code",
    "id": "lhap_Kk4O7rx",
    "outputId": "2731a2a3-cb5e-472f-ce70-a43914c6c3e8"
   },
   "outputs": [],
   "source": [
    "#Display first 5 rows\n",
    "df.head()"
   ]
  },
  {
   "cell_type": "code",
   "execution_count": null,
   "metadata": {
    "colab": {
     "base_uri": "https://localhost:8080/",
     "height": 34
    },
    "colab_type": "code",
    "id": "Z_PMCw-NPCQT",
    "outputId": "69316c4b-a71f-4d38-9c1f-32d7a78cfb91"
   },
   "outputs": [],
   "source": [
    "#Checking shape\n",
    "df.shape"
   ]
  },
  {
   "cell_type": "code",
   "execution_count": null,
   "metadata": {
    "colab": {
     "base_uri": "https://localhost:8080/",
     "height": 354
    },
    "colab_type": "code",
    "id": "MeXBcVDFQrH_",
    "outputId": "e93bf0a9-dc2d-4680-d2c9-280118259022"
   },
   "outputs": [],
   "source": [
    "#Checking for nan values\n",
    "df.isnull().sum()"
   ]
  },
  {
   "cell_type": "code",
   "execution_count": null,
   "metadata": {
    "colab": {
     "base_uri": "https://localhost:8080/",
     "height": 354
    },
    "colab_type": "code",
    "id": "izZe-BjkQ4hv",
    "outputId": "45fa9a1b-5aa6-45e3-fe0c-3522d31af8d2"
   },
   "outputs": [],
   "source": [
    "#Cheking dtype of each attribute\n",
    "df.dtypes"
   ]
  },
  {
   "cell_type": "code",
   "execution_count": null,
   "metadata": {
    "colab": {
     "base_uri": "https://localhost:8080/",
     "height": 123
    },
    "colab_type": "code",
    "id": "mQtS6FvWeA_n",
    "outputId": "20d57639-1100-4d4e-d495-a70b0ab54f9c"
   },
   "outputs": [],
   "source": [
    "df.columns"
   ]
  },
  {
   "cell_type": "code",
   "execution_count": null,
   "metadata": {
    "colab": {},
    "colab_type": "code",
    "id": "5r0NsQF0xkuT"
   },
   "outputs": [],
   "source": [
    "#Renaming the column names\n",
    "df = df.rename(columns={'Candidate.Ref':'Candidate_ref', 'DOJ.Extended':'DOJ_extended', 'Duration.to.accept.offer':'Accept_duration',\n",
    "       'Notice.period':'Notice_period', 'Offered.band':'Offered_band', 'Pecent.hike.expected.in.CTC':'Percent_hike_expected',\n",
    "       'Percent.hike.offered.in.CTC':'Percent_hike_offered', 'Percent.difference.CTC':'Percent_difference',\n",
    "       'Joining.Bonus':'Joining_Bonus', 'Candidate.relocate.actual':'Relocated','Candidate.Source':'Source','Rex.in.Yrs':'Rex'})"
   ]
  },
  {
   "cell_type": "code",
   "execution_count": null,
   "metadata": {
    "colab": {
     "base_uri": "https://localhost:8080/",
     "height": 123
    },
    "colab_type": "code",
    "id": "vIkQoQVczAcG",
    "outputId": "5212549a-97a1-4908-d71a-d2c7d95a7134"
   },
   "outputs": [],
   "source": [
    "df.columns"
   ]
  },
  {
   "cell_type": "code",
   "execution_count": null,
   "metadata": {
    "colab": {},
    "colab_type": "code",
    "id": "WJeuT6WDeO2b"
   },
   "outputs": [],
   "source": [
    "#Rearranging Columns names\n",
    "df = df[['SLNO', 'Candidate_ref', 'Accept_duration','Notice_period','Percent_hike_expected',\n",
    "         'Percent_hike_offered', 'Percent_difference','Rex','Age','DOJ_extended','Offered_band'\n",
    "         ,'Joining_Bonus', 'Relocated', 'Gender','Source', 'LOB', 'Location','Status']]"
   ]
  },
  {
   "cell_type": "code",
   "execution_count": null,
   "metadata": {
    "colab": {
     "base_uri": "https://localhost:8080/",
     "height": 267
    },
    "colab_type": "code",
    "id": "o8eEY73Vi6LD",
    "outputId": "19aa312e-f38d-4a4c-d570-a240acde5b01"
   },
   "outputs": [],
   "source": [
    "df.head()"
   ]
  },
  {
   "cell_type": "code",
   "execution_count": null,
   "metadata": {
    "colab": {},
    "colab_type": "code",
    "id": "0qDVmZeak-i2"
   },
   "outputs": [],
   "source": [
    "#Copying the df to df1\n",
    "df1 = df.copy()"
   ]
  },
  {
   "cell_type": "code",
   "execution_count": null,
   "metadata": {
    "colab": {},
    "colab_type": "code",
    "id": "0Y66LGi4lEE9"
   },
   "outputs": [],
   "source": [
    "#Dropping SLNO which is just like an Index\n",
    "df1.drop('SLNO',1,inplace=True)"
   ]
  },
  {
   "cell_type": "code",
   "execution_count": null,
   "metadata": {
    "colab": {
     "base_uri": "https://localhost:8080/",
     "height": 267
    },
    "colab_type": "code",
    "id": "mGHUczyVlT82",
    "outputId": "efe73c44-4d62-4576-9132-67ea999fecca"
   },
   "outputs": [],
   "source": [
    "#Review the first 5 rows\n",
    "df1.head()"
   ]
  },
  {
   "cell_type": "code",
   "execution_count": null,
   "metadata": {
    "colab": {
     "base_uri": "https://localhost:8080/",
     "height": 105
    },
    "colab_type": "code",
    "id": "_6P7Jghdmv7j",
    "outputId": "85a47a52-4ada-4431-d9ae-8eed34cdad77"
   },
   "outputs": [],
   "source": [
    "df1.columns"
   ]
  },
  {
   "cell_type": "code",
   "execution_count": null,
   "metadata": {
    "colab": {},
    "colab_type": "code",
    "id": "wW97P7yVO1Um"
   },
   "outputs": [],
   "source": [
    "#Dropping the \"Candidate_ref\" because it is just a unique id given to candidate like random genrated index ID\n",
    "df1.drop('Candidate_ref',1,inplace=True)"
   ]
  },
  {
   "cell_type": "code",
   "execution_count": null,
   "metadata": {
    "colab": {
     "base_uri": "https://localhost:8080/",
     "height": 267
    },
    "colab_type": "code",
    "id": "JZPFPBQMQfpc",
    "outputId": "545f34c4-da83-40cb-a090-e7ea72b0f812"
   },
   "outputs": [],
   "source": [
    "#Head\n",
    "df1.head()"
   ]
  },
  {
   "cell_type": "code",
   "execution_count": null,
   "metadata": {
    "colab": {
     "base_uri": "https://localhost:8080/",
     "height": 267
    },
    "colab_type": "code",
    "id": "m4LWUuDy1uHN",
    "outputId": "ec87abe3-aa9a-4b8f-c685-a27d0a317045"
   },
   "outputs": [],
   "source": [
    "#Independented Varibales\n",
    "x = df1.iloc[:,:-1]\n",
    "x.head()"
   ]
  },
  {
   "cell_type": "code",
   "execution_count": null,
   "metadata": {
    "colab": {
     "base_uri": "https://localhost:8080/",
     "height": 123
    },
    "colab_type": "code",
    "id": "0MVr9tWV129b",
    "outputId": "6d7b2978-79fb-4859-f9ff-eaecff946c5b"
   },
   "outputs": [],
   "source": [
    "#Dependented Varibales\n",
    "y = df1.iloc[:,-1]\n",
    "y.head()"
   ]
  },
  {
   "cell_type": "code",
   "execution_count": null,
   "metadata": {
    "colab": {
     "base_uri": "https://localhost:8080/",
     "height": 34
    },
    "colab_type": "code",
    "id": "Kas8INd42iD_",
    "outputId": "45411436-dde5-48ab-a399-67b1ebcca97a"
   },
   "outputs": [],
   "source": [
    "#Check unique attributes\n",
    "df1['Status'].unique()"
   ]
  },
  {
   "cell_type": "code",
   "execution_count": null,
   "metadata": {
    "colab": {},
    "colab_type": "code",
    "id": "04-Z6XLr2HNc"
   },
   "outputs": [],
   "source": [
    "#Encoding the dependented variable to binary > Joined to '0' Not Joined to '1'\n",
    "y.replace(['Joined','Not Joined'],[0,1],inplace=True)"
   ]
  },
  {
   "cell_type": "code",
   "execution_count": null,
   "metadata": {
    "colab": {},
    "colab_type": "code",
    "id": "wKbKC_bx29t5"
   },
   "outputs": [],
   "source": [
    "xd = pd.get_dummies(x,drop_first=True)"
   ]
  },
  {
   "cell_type": "code",
   "execution_count": null,
   "metadata": {
    "colab": {
     "base_uri": "https://localhost:8080/",
     "height": 212
    },
    "colab_type": "code",
    "id": "cRTB0zDP6BJ4",
    "outputId": "8c1e5a26-09db-46fd-dc3d-f36049ea5a15"
   },
   "outputs": [],
   "source": [
    "xd.keys()"
   ]
  },
  {
   "cell_type": "code",
   "execution_count": null,
   "metadata": {
    "colab": {
     "base_uri": "https://localhost:8080/",
     "height": 72
    },
    "colab_type": "code",
    "id": "z2xJW0OMgYK3",
    "outputId": "e3824933-42a7-4820-adbb-b15f67b7bf3f"
   },
   "outputs": [],
   "source": [
    "#Importing the imblearn\n",
    "import imblearn\n",
    "from imblearn.over_sampling import SMOTE #Importing SMOTE"
   ]
  },
  {
   "cell_type": "code",
   "execution_count": null,
   "metadata": {
    "colab": {},
    "colab_type": "code",
    "id": "MGmQa-gWgYXn"
   },
   "outputs": [],
   "source": [
    "x_resam,y_resam = SMOTE(k_neighbors=5).fit_resample(xd,y)"
   ]
  },
  {
   "cell_type": "code",
   "execution_count": null,
   "metadata": {
    "colab": {},
    "colab_type": "code",
    "id": "6c6R92ulAWIi"
   },
   "outputs": [],
   "source": [
    "#Random seed\n",
    "np.random.seed(1001)"
   ]
  },
  {
   "cell_type": "code",
   "execution_count": null,
   "metadata": {
    "colab": {},
    "colab_type": "code",
    "id": "xeUqs6IDBvyc"
   },
   "outputs": [],
   "source": [
    "#Importing train & test split\n",
    "from sklearn.model_selection import train_test_split"
   ]
  },
  {
   "cell_type": "code",
   "execution_count": null,
   "metadata": {
    "colab": {},
    "colab_type": "code",
    "id": "UcNn0BPoB0Zi"
   },
   "outputs": [],
   "source": [
    "#Spliting to train,test\n",
    "x_train,x_test,y_train,y_test = train_test_split(x_resam,y_resam,test_size=0.2)"
   ]
  },
  {
   "cell_type": "code",
   "execution_count": null,
   "metadata": {
    "colab": {
     "base_uri": "https://localhost:8080/",
     "height": 34
    },
    "colab_type": "code",
    "id": "SE6ZGqKZCE6E",
    "outputId": "184e9df0-6d65-420e-818e-bf97b5c6ffc0"
   },
   "outputs": [],
   "source": [
    "#Checking shape of train,test\n",
    "x_train.shape,x_test.shape,y_train.shape,y_test.shape"
   ]
  },
  {
   "cell_type": "markdown",
   "metadata": {
    "colab_type": "text",
    "id": "LueYMBnY5dBQ"
   },
   "source": [
    "## Decision Tree"
   ]
  },
  {
   "cell_type": "code",
   "execution_count": null,
   "metadata": {
    "colab": {},
    "colab_type": "code",
    "id": "37NcUSAI5XUN"
   },
   "outputs": [],
   "source": [
    "#Importing DecisionTreeClassifier\n",
    "from sklearn.tree import DecisionTreeClassifier"
   ]
  },
  {
   "cell_type": "code",
   "execution_count": null,
   "metadata": {
    "colab": {},
    "colab_type": "code",
    "id": "xfKIxrD9Txai"
   },
   "outputs": [],
   "source": [
    "#tree_1 as DecisionTreeClassifier\n",
    "tree_1 = DecisionTreeClassifier(criterion='gini',max_depth=None,max_features=17)"
   ]
  },
  {
   "cell_type": "code",
   "execution_count": null,
   "metadata": {
    "colab": {
     "base_uri": "https://localhost:8080/",
     "height": 123
    },
    "colab_type": "code",
    "id": "iZQEkSc9Txip",
    "outputId": "85457889-2062-4be0-a473-1ecef1f4e071"
   },
   "outputs": [],
   "source": [
    "#Fitting\n",
    "tree_1.fit(x_train,y_train)"
   ]
  },
  {
   "cell_type": "code",
   "execution_count": null,
   "metadata": {
    "colab": {
     "base_uri": "https://localhost:8080/",
     "height": 34
    },
    "colab_type": "code",
    "id": "RPc9q1HETxmZ",
    "outputId": "449f7c7a-78fb-4a00-8133-3ab8a97c0122"
   },
   "outputs": [],
   "source": [
    "#Checking max_depth\n",
    "tree_1.tree_.max_depth"
   ]
  },
  {
   "cell_type": "code",
   "execution_count": null,
   "metadata": {
    "colab": {},
    "colab_type": "code",
    "id": "5V5Y9pobTxpv"
   },
   "outputs": [],
   "source": [
    "#Checking important features\n",
    "imp_feature = tree_1.tree_.compute_feature_importances()"
   ]
  },
  {
   "cell_type": "code",
   "execution_count": null,
   "metadata": {
    "colab": {
     "base_uri": "https://localhost:8080/",
     "height": 594
    },
    "colab_type": "code",
    "id": "ASmbC4JiTxsy",
    "outputId": "82a78c8e-4a26-4308-b15e-9ed79a36a164"
   },
   "outputs": [],
   "source": [
    "#Plotting important features\n",
    "plt.figure(figsize=(20,10))\n",
    "pd.Series(imp_feature,index=xd.columns).sort_values().plot(kind='barh')\n",
    "plt.show()"
   ]
  },
  {
   "cell_type": "code",
   "execution_count": null,
   "metadata": {
    "colab": {
     "base_uri": "https://localhost:8080/",
     "height": 34
    },
    "colab_type": "code",
    "id": "3GfC5cq9Txvk",
    "outputId": "3babf002-08ff-4198-ea81-11a9ed53b14a"
   },
   "outputs": [],
   "source": [
    "#Checking score of train and test\n",
    "tree_1.score(x_train,y_train),tree_1.score(x_test,y_test)"
   ]
  },
  {
   "cell_type": "code",
   "execution_count": null,
   "metadata": {
    "colab": {},
    "colab_type": "code",
    "id": "kH70lLu6croG"
   },
   "outputs": [],
   "source": [
    "#Predicting train values\n",
    "y_train_pred = tree_1.predict(x_train)"
   ]
  },
  {
   "cell_type": "code",
   "execution_count": null,
   "metadata": {
    "colab": {},
    "colab_type": "code",
    "id": "3C-g7e50g8mw"
   },
   "outputs": [],
   "source": [
    "#Predicting test values\n",
    "y_test_pred = tree_1.predict(x_test)"
   ]
  },
  {
   "cell_type": "code",
   "execution_count": null,
   "metadata": {
    "colab": {},
    "colab_type": "code",
    "id": "RHWP46Vbcrxr"
   },
   "outputs": [],
   "source": [
    "#Taking prob of positive of test\n",
    "y_test_prob = tree_1.predict_proba(x_test)[:,1]"
   ]
  },
  {
   "cell_type": "code",
   "execution_count": null,
   "metadata": {
    "colab": {},
    "colab_type": "code",
    "id": "HMqo2zMJTxyZ"
   },
   "outputs": [],
   "source": [
    "#Importing a custom module innomatics\n",
    "import innomatics"
   ]
  },
  {
   "cell_type": "code",
   "execution_count": null,
   "metadata": {
    "colab": {
     "base_uri": "https://localhost:8080/",
     "height": 1000
    },
    "colab_type": "code",
    "id": "fYX5nSTicrlV",
    "outputId": "f2567f6c-5cff-4fd3-f51a-f3cd23f6d2e0"
   },
   "outputs": [],
   "source": [
    "#classification metric\n",
    "innomatics.classification_metric(y_test,y_test_pred,y_test_prob,label=['Joined','Not Joined'],n=50,verbose=True)"
   ]
  },
  {
   "cell_type": "markdown",
   "metadata": {
    "colab_type": "text",
    "id": "A78hdp3_hpcS"
   },
   "source": [
    "## Purning\n"
   ]
  },
  {
   "cell_type": "code",
   "execution_count": null,
   "metadata": {
    "colab": {},
    "colab_type": "code",
    "id": "kA8gHjE8Tx1Z"
   },
   "outputs": [],
   "source": [
    "def purning(x_train,y_train,x_test,y_test,criterion,max_depth):\n",
    "  \"\"\"\n",
    "    A Simple purning function for plotting the scores of train and test using\n",
    "    different criterion like \"gini\",\"entropy\".\n",
    "\n",
    "    !Caution import required libaries before using this function.\n",
    "    \n",
    "    Required: DecisionTreeClassifier\n",
    "  \"\"\"\n",
    "  #Purning\n",
    "  train_acc = []\n",
    "  test_acc = []\n",
    "  depth = np.arange(2,max_depth)\n",
    "  for i in depth:\n",
    "    model_purning = DecisionTreeClassifier(criterion=criterion,max_depth=i)\n",
    "    model_purning.fit(x_train,y_train)\n",
    "    train_a = model_purning.score(x_train,y_train)\n",
    "    test_a = model_purning.score(x_test,y_test)\n",
    "    train_acc.append(train_a)\n",
    "    test_acc.append(test_a)\n",
    "\n",
    "  plt.figure(figsize=(10,6))\n",
    "  plt.plot(depth,train_acc)\n",
    "  plt.plot(depth,test_acc)\n",
    "  plt.xlabel('Depth')\n",
    "  plt.ylabel('Score')\n",
    "  plt.legend(['train','test'])\n",
    "  plt.show()"
   ]
  },
  {
   "cell_type": "code",
   "execution_count": null,
   "metadata": {
    "colab": {
     "base_uri": "https://localhost:8080/",
     "height": 392
    },
    "colab_type": "code",
    "id": "Heol1zLuTx3j",
    "outputId": "a99facbf-fba4-4848-dec7-dae970fe3a25"
   },
   "outputs": [],
   "source": [
    "#purning with gini criterion\n",
    "purning(x_train,y_train,x_test,y_test,'gini',31)"
   ]
  },
  {
   "cell_type": "code",
   "execution_count": null,
   "metadata": {
    "colab": {
     "base_uri": "https://localhost:8080/",
     "height": 392
    },
    "colab_type": "code",
    "id": "kXBNPU6_o8nm",
    "outputId": "bd8a3332-0565-45d4-eae7-0fca587ff98f"
   },
   "outputs": [],
   "source": [
    "#purning with entropy criterion\n",
    "purning(x_train,y_train,x_test,y_test,'entropy',31)"
   ]
  },
  {
   "cell_type": "markdown",
   "metadata": {
    "colab_type": "text",
    "id": "Hufj9ZnSrrN7"
   },
   "source": [
    "**From above plots selecting max depth as the 12**"
   ]
  },
  {
   "cell_type": "code",
   "execution_count": null,
   "metadata": {
    "colab": {},
    "colab_type": "code",
    "id": "dh29H1easStq"
   },
   "outputs": [],
   "source": [
    "#Now selecting the model with above value 12 and max_feature of 17(from previous notebook)\n",
    "model_pur = DecisionTreeClassifier(criterion='gini',max_depth=11,max_features=17)\n",
    "model_pur.fit(x_train,y_train)\n",
    "yp_test_pred = model_pur.predict(x_test)\n",
    "yp_test_prob = model_pur.predict_proba(x_test)[:,1]"
   ]
  },
  {
   "cell_type": "code",
   "execution_count": null,
   "metadata": {
    "colab": {
     "base_uri": "https://localhost:8080/",
     "height": 1000
    },
    "colab_type": "code",
    "id": "9EJ_k-iisSwz",
    "outputId": "7bb0322c-0e99-44b3-ac6d-5c6202a6c523"
   },
   "outputs": [],
   "source": [
    "innomatics.classification_metric(y_test,yp_test_pred,yp_test_prob,\n",
    "                                 label=['Joined','Not Joined'],n=10,verbose=True)"
   ]
  },
  {
   "cell_type": "code",
   "execution_count": null,
   "metadata": {
    "colab": {},
    "colab_type": "code",
    "id": "tUXnKDptxM3J"
   },
   "outputs": [],
   "source": [
    "#Assuming Same criteria for DecisionTree also\n",
    "from sklearn.metrics import confusion_matrix, classification_report\n",
    "def FP(x_train,y_train,cri,ratio=3):\n",
    "  \"\"\"\n",
    "    A Function for filtering the giving criteria which is ratio between\n",
    "    the FP's to FN's should be 3 times.\n",
    "\n",
    "    cri: can be criterion for classsifer like 'gini' are 'entropy'.\n",
    "\n",
    "    ratio: ratio between the FP's to FN (default its 3).\n",
    "\n",
    "    You can select the max_depth and max_features which is index.\n",
    "\n",
    "    Note: No Combinations are applied in this function. max_depth = max_features.\n",
    "\n",
    "  \"\"\"\n",
    "  FP = []\n",
    "  FN = []\n",
    "  max_depth = np.arange(2,27)\n",
    "  for m in max_depth:\n",
    "    model_tune = DecisionTreeClassifier(criterion=cri,max_depth=m,max_features=m,random_state=0)\n",
    "    model_tune.fit(x_train,y_train)\n",
    "    y_pred = model_tune.predict(x_train)\n",
    "    tn, fp, fn, tp = confusion_matrix(y_train,y_pred).ravel()\n",
    "    FP.append(fp)\n",
    "    FN.append(fn)\n",
    "  MAX = pd.DataFrame(index=max_depth)\n",
    "  MAX['FP'] = FP\n",
    "  MAX['FN'] = FN\n",
    "  MAX['Ratio'] = np.array(FP)/np.array(FN)\n",
    "  return MAX[MAX[\"Ratio\"]>ratio]\n"
   ]
  },
  {
   "cell_type": "code",
   "execution_count": null,
   "metadata": {
    "colab": {
     "base_uri": "https://localhost:8080/",
     "height": 107
    },
    "colab_type": "code",
    "id": "N4Q1n7vwAWU2",
    "outputId": "abd694fd-9de7-454d-efd4-beecf6f35fad"
   },
   "outputs": [],
   "source": [
    "#Ratio for gini\n",
    "FP(x_train,y_train,'gini')"
   ]
  },
  {
   "cell_type": "code",
   "execution_count": null,
   "metadata": {
    "colab": {
     "base_uri": "https://localhost:8080/",
     "height": 107
    },
    "colab_type": "code",
    "id": "sFLOrlAMAbvp",
    "outputId": "e7349449-9bdc-4ad4-8bdf-079e210cc175"
   },
   "outputs": [],
   "source": [
    "#Ration for entropy\n",
    "FP(x_train,y_train,'entropy')"
   ]
  },
  {
   "cell_type": "markdown",
   "metadata": {
    "colab_type": "text",
    "id": "Wdm6THyqJgoG"
   },
   "source": [
    "We can observe the near the max_depth of 5 the FP's to FN's ratio is quite ok its is near to 3 with entropy criterion."
   ]
  },
  {
   "cell_type": "code",
   "execution_count": null,
   "metadata": {
    "colab": {
     "base_uri": "https://localhost:8080/",
     "height": 123
    },
    "colab_type": "code",
    "id": "8d_vIUE6INDJ",
    "outputId": "932d612a-9efe-485b-9166-e7d5a85846a5"
   },
   "outputs": [],
   "source": [
    "#Model with max_depth 5 and max_feature 5\n",
    "model_para = DecisionTreeClassifier(criterion='entropy',max_depth=5,max_features=5,random_state=0)\n",
    "model_para.fit(x_train,y_train)"
   ]
  },
  {
   "cell_type": "code",
   "execution_count": null,
   "metadata": {
    "colab": {
     "base_uri": "https://localhost:8080/",
     "height": 1000
    },
    "colab_type": "code",
    "id": "s8uG58-HwAds",
    "outputId": "dcb763d8-90f0-4fe6-f858-25db75a1de93"
   },
   "outputs": [],
   "source": [
    "innomatics.classification_metric(y_train,model_para.predict(x_train),model_para.predict_proba(x_train)[:,1]\n",
    "                                 ,label=['Joined','Not Joined'],n=5,verbose=True)"
   ]
  },
  {
   "cell_type": "code",
   "execution_count": null,
   "metadata": {
    "colab": {},
    "colab_type": "code",
    "id": "dR854mXtg6kf"
   },
   "outputs": [],
   "source": [
    "#Extracting important features\n",
    "imp_features = model_para.tree_.compute_feature_importances()"
   ]
  },
  {
   "cell_type": "code",
   "execution_count": null,
   "metadata": {
    "colab": {
     "base_uri": "https://localhost:8080/",
     "height": 594
    },
    "colab_type": "code",
    "id": "3bUJpxvGviO9",
    "outputId": "bf3df44e-c592-4e98-d441-fb19f6888974"
   },
   "outputs": [],
   "source": [
    "#Plotting\n",
    "plt.figure(figsize=(15,10))\n",
    "pd.Series(imp_features,index=xd.columns).sort_values().plot(kind='barh')\n",
    "plt.show()"
   ]
  },
  {
   "cell_type": "code",
   "execution_count": null,
   "metadata": {
    "colab": {
     "base_uri": "https://localhost:8080/",
     "height": 34
    },
    "colab_type": "code",
    "id": "Cboap5RVvxrl",
    "outputId": "73b88219-a796-476b-8579-b4be5c8c10c3"
   },
   "outputs": [],
   "source": [
    "#Getting tree\n",
    "from sklearn.tree import export_graphviz\n",
    "import pydotplus\n",
    "export_graphviz(model_para,out_file='final.odt',\n",
    "                feature_names=xd.columns,filled=True)\n",
    "graph = pydotplus.graph_from_dot_file('final.odt')\n",
    "graph.write_pdf('final.pdf')\n",
    "graph.write_jpg('final.jpg')"
   ]
  },
  {
   "cell_type": "code",
   "execution_count": null,
   "metadata": {
    "colab": {},
    "colab_type": "code",
    "id": "TsiDdWbdLq3J"
   },
   "outputs": [],
   "source": [
    "#Importing mpimg for images\n",
    "import matplotlib.image as mpimg"
   ]
  },
  {
   "cell_type": "code",
   "execution_count": null,
   "metadata": {
    "colab": {
     "base_uri": "https://localhost:8080/",
     "height": 308
    },
    "colab_type": "code",
    "id": "41gPUJLwA0eL",
    "outputId": "3b1bd08b-ed78-49ef-e683-43271f862458"
   },
   "outputs": [],
   "source": [
    "#Read and displaying the saved tree\n",
    "tree = mpimg.imread('final.jpg')\n",
    "plt.figure(figsize=(20,20))\n",
    "plt.title('Final Tree',fontsize=20)\n",
    "plt.imshow(tree)\n",
    "plt.grid()"
   ]
  }
 ],
 "metadata": {
  "accelerator": "GPU",
  "colab": {
   "collapsed_sections": [],
   "name": "Tree",
   "provenance": []
  },
  "kernelspec": {
   "display_name": "Python 3 (ipykernel)",
   "language": "python",
   "name": "python3"
  },
  "language_info": {
   "codemirror_mode": {
    "name": "ipython",
    "version": 3
   },
   "file_extension": ".py",
   "mimetype": "text/x-python",
   "name": "python",
   "nbconvert_exporter": "python",
   "pygments_lexer": "ipython3",
   "version": "3.9.7"
  }
 },
 "nbformat": 4,
 "nbformat_minor": 4
}
